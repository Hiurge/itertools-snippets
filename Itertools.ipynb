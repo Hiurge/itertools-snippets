{
 "cells": [
  {
   "cell_type": "code",
   "execution_count": 158,
   "metadata": {},
   "outputs": [],
   "source": [
    "# Itertools\n",
    "import itertools"
   ]
  },
  {
   "cell_type": "code",
   "execution_count": 159,
   "metadata": {},
   "outputs": [],
   "source": [
    "#  1 # count(start=0, step= 1)\n",
    "#  2 # cycle(iterable)\n",
    "#  3 # repeat(object[,times])\n",
    "\n",
    "#  4 # accumulate(iterable[, funct])\n",
    "#  5 # chain(iterable1, iterable2)\n",
    "#  6 # chain.from_iterable(['ABC', 'DEF']) --> A B C D E \n",
    "#  7 # compress(iterable, selectors)\n",
    "#  8 # dropwhile(predicate, iterable)\n",
    "#  9 # filterfalse(lambda x: x%2, range(10)) --> 0 2 4 6 8\n",
    "# 10 # groupby(iterable, key=None)\n",
    "# 11 # islice(iterable, start, stop[, step])\n",
    "# 12 # starmap(func, iterable)\n",
    "# 13 # takewhile(lambda x: x<5, [1,4,6,4,1]) --> 1 4\n",
    "# 14 # tee(iterable, n=3)\n",
    "# 15 # zip_longest(iterable, iterable, fillvalue)\n",
    "\n",
    "# 16 # combinations(iterable, n=3)\n",
    "# 17 # combinations_with_replacement(iterable, n=3)\n",
    "# 18 # product(*iterable, repeat=1) \n",
    "# 19 # permutations(iterable, r=None)"
   ]
  },
  {
   "cell_type": "code",
   "execution_count": 160,
   "metadata": {},
   "outputs": [
    {
     "name": "stdout",
     "output_type": "stream",
     "text": [
      "5\n",
      "19\n",
      "33\n",
      "47\n"
     ]
    }
   ],
   "source": [
    "# count(start=0, step= 1)\n",
    "\n",
    "# Evenly spaced values\n",
    "\n",
    "for i in itertools.count(5,14):\n",
    "    print(i)\n",
    "    if i > 40:\n",
    "        break"
   ]
  },
  {
   "cell_type": "code",
   "execution_count": 161,
   "metadata": {},
   "outputs": [
    {
     "name": "stdout",
     "output_type": "stream",
     "text": [
      "knig\n",
      "tower\n",
      "king\n",
      "knig\n",
      "tower\n",
      "king\n",
      "knig\n",
      "tower\n"
     ]
    }
   ],
   "source": [
    "# cycle(iterable)\n",
    "\n",
    "# Endless cycle over iterator\n",
    "\n",
    "count = 0\n",
    "figures = [\"knig\", \"tower\", \"king\"]\n",
    "for f in itertools.cycle(figures):\n",
    "    print(f)\n",
    "    count += 1\n",
    "    if count > 7:\n",
    "        break"
   ]
  },
  {
   "cell_type": "code",
   "execution_count": 162,
   "metadata": {},
   "outputs": [
    {
     "name": "stdout",
     "output_type": "stream",
     "text": [
      "x\n",
      "x\n",
      "x\n"
     ]
    }
   ],
   "source": [
    "# repeat(object[,times])\n",
    "\n",
    "# Repeat object untill reaching \"times\" argument\n",
    "\n",
    "value = \"x\"\n",
    "for i in itertools.repeat(value, 3):\n",
    "    print(i)"
   ]
  },
  {
   "cell_type": "code",
   "execution_count": 163,
   "metadata": {},
   "outputs": [
    {
     "name": "stdout",
     "output_type": "stream",
     "text": [
      "1\n",
      "2\n",
      "6\n",
      "24\n"
     ]
    }
   ],
   "source": [
    "# accumulate(iterable[, funct])\n",
    "\n",
    "# Iterator returns result of a function\n",
    "\n",
    "numbers = list(range(1,5))\n",
    "f = lambda x,y: x*y\n",
    "result = itertools.accumulate(numbers, f)\n",
    "for each in result:\n",
    "    print(each)"
   ]
  },
  {
   "cell_type": "code",
   "execution_count": 164,
   "metadata": {},
   "outputs": [
    {
     "name": "stdout",
     "output_type": "stream",
     "text": [
      "['a', 'b', 'c', 1, 2, 3]\n"
     ]
    }
   ],
   "source": [
    "# chain(iterable1, iterable2)\n",
    "\n",
    "# Add s2 at the end of s2 making s3 iterator\n",
    "\n",
    "s1 = [\"a\", \"b\", \"c\"]\n",
    "s2 = [1, 2, 3]\n",
    "\n",
    "s3 = itertools.chain(s1, s2)\n",
    "print(list(s3))"
   ]
  },
  {
   "cell_type": "code",
   "execution_count": 165,
   "metadata": {},
   "outputs": [
    {
     "name": "stdout",
     "output_type": "stream",
     "text": [
      "['a', 'b', 'b', 'c', 'c', 'd']\n"
     ]
    }
   ],
   "source": [
    "# chain.from_iterable([\"ab\",\"bc\",\"cd\"])\n",
    "\n",
    "# As a chain but takes items from single iterable\n",
    "\n",
    "s1 = itertools.chain.from_iterable([\"ab\", \"bc\", \"cd\"])\n",
    "print(list(s1))"
   ]
  },
  {
   "cell_type": "code",
   "execution_count": 166,
   "metadata": {},
   "outputs": [
    {
     "name": "stdout",
     "output_type": "stream",
     "text": [
      "['b', 'e']\n"
     ]
    }
   ],
   "source": [
    "# compress(iterable, selectors)\n",
    "\n",
    "# Filter one iterable (vals) with next one (bools)\n",
    "\n",
    "s1 = [\"a\", \"b\", \"c\", \"d\", \"e\"]\n",
    "s2 = [False, True, False, False, True]\n",
    "\n",
    "s3 = itertools.compress(s1,s2)\n",
    "print(list(s3))"
   ]
  },
  {
   "cell_type": "code",
   "execution_count": 167,
   "metadata": {},
   "outputs": [
    {
     "name": "stdout",
     "output_type": "stream",
     "text": [
      "s1 [0, 1, 2, 3, 4, 5, 1, 2, 3]\n",
      "s2 [3, 4, 5, 1, 2, 3]\n"
     ]
    }
   ],
   "source": [
    "# dropwhile(predicate, iterable)\n",
    "\n",
    "# Drops elements from iterable when predicate=True, returns all after\n",
    "\n",
    "s1 = list(range(6))\n",
    "s1.extend([1,2,3])\n",
    "print(\"s1\", s1)\n",
    "\n",
    "s2 = itertools.dropwhile(lambda x: x<3, s1)\n",
    "print(\"s2\", list(s2))"
   ]
  },
  {
   "cell_type": "code",
   "execution_count": 168,
   "metadata": {},
   "outputs": [
    {
     "name": "stdout",
     "output_type": "stream",
     "text": [
      "s1 [0, 1, 2, 3, 4, 5, 1, 2, 3]\n",
      "s2 [2, 3, 4, 5, 2, 3]\n"
     ]
    }
   ],
   "source": [
    "# filterfalse(predicate, iterable)\n",
    "\n",
    "# Make an iterator that filters elements from iterable returning only those for which \n",
    "# the predicate is False. If predicate is None, return the items that are false.\n",
    "\n",
    "s1 = list(range(6))\n",
    "s1.extend([1,2,3])\n",
    "print(\"s1\", s1)\n",
    "\n",
    "s2 = itertools.filterfalse(lambda x: x<2, s1)\n",
    "print(\"s2\", list(s2))\n"
   ]
  },
  {
   "cell_type": "code",
   "execution_count": 169,
   "metadata": {},
   "outputs": [
    {
     "name": "stdout",
     "output_type": "stream",
     "text": [
      "[{'a': 3, 'b': 4}, {'a': 2, 'b': 4}, {'a': 1, 'b': 5}, {'a': 1, 'b': 5}]\n",
      "4\n",
      "[{'a': 3, 'b': 4}, {'a': 2, 'b': 4}]\n",
      "5\n",
      "[{'a': 1, 'b': 5}, {'a': 1, 'b': 5}]\n"
     ]
    }
   ],
   "source": [
    "# groupby(iterable, key=None)\n",
    "\n",
    "# Groups things in lists by key\n",
    "\n",
    "d1 = [{\"a\": 3, \"b\": 4},\n",
    "      {\"a\": 2, \"b\": 4},\n",
    "      {\"a\": 1, \"b\": 5},\n",
    "      {\"a\": 1, \"b\": 5}]\n",
    "\n",
    "d2 = sorted(d1, key=operator.itemgetter('b'))\n",
    "print(d2)\n",
    "\n",
    "for key, group in itertools.groupby(d2, key=lambda x: x['b']):\n",
    "    print(key)\n",
    "    print(list(group))"
   ]
  },
  {
   "cell_type": "code",
   "execution_count": 170,
   "metadata": {},
   "outputs": [
    {
     "name": "stdout",
     "output_type": "stream",
     "text": [
      "['a']\n",
      "['b', 'c', 'd']\n",
      "['b', 'd']\n"
     ]
    }
   ],
   "source": [
    "# islice(iterable, start, stop[, step])\n",
    "\n",
    "# Slicing iterable\n",
    "\n",
    "s1 = [\"a\", \"b\", \"c\", \"d\", \"e\"]\n",
    "s2 = itertools.islice(s1, 1)\n",
    "print(list(s2))\n",
    "\n",
    "s1 = [\"a\", \"b\", \"c\", \"d\", \"e\"]\n",
    "s2 = itertools.islice(s1, 1, 4)\n",
    "print(list(s2))\n",
    "\n",
    "s1 = [\"a\", \"b\", \"c\", \"d\", \"e\"]\n",
    "s2 = itertools.islice(s1, 1, 4, 2)\n",
    "print(list(s2))"
   ]
  },
  {
   "cell_type": "code",
   "execution_count": 171,
   "metadata": {},
   "outputs": [
    {
     "name": "stdout",
     "output_type": "stream",
     "text": [
      "[2, 3, 8, 12]\n"
     ]
    }
   ],
   "source": [
    "# starmap(func, iterable)\n",
    "\n",
    "# Iterator computes func using args from iterable\n",
    "\n",
    "s1 = [(1, 2), (3, 1), (4, 2), (3, 4)]\n",
    "s2 = itertools.starmap(operator.mul, s1)\n",
    "print(list(s2))"
   ]
  },
  {
   "cell_type": "code",
   "execution_count": 172,
   "metadata": {},
   "outputs": [
    {
     "name": "stdout",
     "output_type": "stream",
     "text": [
      "s1 [0, 1, 2, 3, 4, 5, 1, 2, 3]\n",
      "s2 [2, 3, 4, 5, 2, 3]\n"
     ]
    }
   ],
   "source": [
    "# takewhile(predicate, iterable)\n",
    "\n",
    "# Make an iterator that returns elements from the iterable as long as the predicate is true.\n",
    "\n",
    "s1 = list(range(6))\n",
    "s1.extend([1,2,3])\n",
    "print(\"s1\", s1)\n",
    "\n",
    "s2 = itertools.takewhile(lambda x: x<2, s1)\n",
    "print(\"s2\", list(s2))"
   ]
  },
  {
   "cell_type": "code",
   "execution_count": 173,
   "metadata": {},
   "outputs": [
    {
     "name": "stdout",
     "output_type": "stream",
     "text": [
      "['a', 'b', 'c', 'd', 'e']\n",
      "['a', 'b', 'c', 'd', 'e']\n"
     ]
    }
   ],
   "source": [
    "# tee(iterable, n=3)\n",
    "\n",
    "# Iterator computes func using args from iterable\n",
    "\n",
    "s1 = [\"a\", \"b\", \"c\", \"d\", \"e\"]\n",
    "s2, s3 = itertools.tee(s1)\n",
    "print(list(s2))\n",
    "print(list(s3))"
   ]
  },
  {
   "cell_type": "code",
   "execution_count": 174,
   "metadata": {},
   "outputs": [
    {
     "name": "stdout",
     "output_type": "stream",
     "text": [
      "('a', 1)\n",
      "('b', 2)\n",
      "('c', 3)\n",
      "('d', None)\n",
      "('e', None)\n"
     ]
    }
   ],
   "source": [
    "# zip_longest(iterable, iterable, fillvalue)\n",
    "\n",
    "# Boosted zip. agregates elements from each of iterables. \n",
    "# if one is longer, nans are filled with fillvalue.\n",
    "\n",
    "\n",
    "s1 = [\"a\", \"b\", \"c\", \"d\", \"e\"]\n",
    "s2 = [1, 2, 3]\n",
    "for each in itertools.zip_longest(s1, s2, fillvalue = None):\n",
    "    print(each)"
   ]
  },
  {
   "cell_type": "code",
   "execution_count": 175,
   "metadata": {},
   "outputs": [
    {
     "name": "stdout",
     "output_type": "stream",
     "text": [
      "[('a', 'b'), ('a', 'c'), ('b', 'c')]\n"
     ]
    }
   ],
   "source": [
    "# combinations(iterable, n=3)\n",
    "\n",
    "# Get all combinations of n elements of iterable in each combo\n",
    "\n",
    "s1 = [\"a\", \"b\", \"c\"]\n",
    "s2 = itertools.combinations(s1, 2)\n",
    "print(list(s2))"
   ]
  },
  {
   "cell_type": "code",
   "execution_count": 176,
   "metadata": {},
   "outputs": [
    {
     "name": "stdout",
     "output_type": "stream",
     "text": [
      "[('a', 'a'), ('a', 'b'), ('a', 'c'), ('b', 'b'), ('b', 'c'), ('c', 'c')]\n"
     ]
    }
   ],
   "source": [
    "# combinations_with_replacement(iterable, n=3)\n",
    "\n",
    "# Combinations with doubled items from iterator\n",
    "\n",
    "s1 = [\"a\", \"b\", \"c\"]\n",
    "s2 = itertools.combinations_with_replacement(s1, 2)\n",
    "print(list(s2))"
   ]
  },
  {
   "cell_type": "code",
   "execution_count": 177,
   "metadata": {},
   "outputs": [
    {
     "name": "stdout",
     "output_type": "stream",
     "text": [
      "[('a', 1), ('a', 2), ('b', 1), ('b', 2)] \n",
      "\n",
      "[('a', 1, 'a', 1), ('a', 1, 'a', 2), ('a', 1, 'b', 1), ('a', 1, 'b', 2), ('a', 2, 'a', 1), ('a', 2, 'a', 2), ('a', 2, 'b', 1), ('a', 2, 'b', 2), ('b', 1, 'a', 1), ('b', 1, 'a', 2), ('b', 1, 'b', 1), ('b', 1, 'b', 2), ('b', 2, 'a', 1), ('b', 2, 'a', 2), ('b', 2, 'b', 1), ('b', 2, 'b', 2)]\n"
     ]
    }
   ],
   "source": [
    "# product(*iterable, repeat=1)\n",
    "\n",
    "# Cartesian products from a series of iterables, it's a 2d table\n",
    "\n",
    "s1 = [\"a\", \"b\"]\n",
    "s2 = [1, 2]\n",
    "\n",
    "s3 = itertools.product(s1, s2, repeat=1)\n",
    "print(list(s3),\"\\n\")\n",
    "\n",
    "s3 = itertools.product(s1, s2, repeat=2)\n",
    "print(list(s3))"
   ]
  },
  {
   "cell_type": "code",
   "execution_count": 178,
   "metadata": {},
   "outputs": [
    {
     "name": "stdout",
     "output_type": "stream",
     "text": [
      "[('a', 'b', 'c'), ('a', 'c', 'b'), ('b', 'a', 'c'), ('b', 'c', 'a'), ('c', 'a', 'b'), ('c', 'b', 'a')] \n",
      "\n",
      "[('a', 'b'), ('a', 'c'), ('b', 'a'), ('b', 'c'), ('c', 'a'), ('c', 'b')]\n"
     ]
    }
   ],
   "source": [
    "# permutations(iterable, r=None)\n",
    "\n",
    "# Generates r lenght permutations of items in iterable\n",
    "\n",
    "s1 = [\"a\", \"b\", \"c\"]\n",
    "\n",
    "s2 = itertools.permutations(s1)\n",
    "print(list(s2),\"\\n\")\n",
    "\n",
    "s2 = itertools.permutations(s1, r=2)\n",
    "print(list(s2))"
   ]
  }
 ],
 "metadata": {
  "kernelspec": {
   "display_name": "Python 3",
   "language": "python",
   "name": "python3"
  },
  "language_info": {
   "codemirror_mode": {
    "name": "ipython",
    "version": 3
   },
   "file_extension": ".py",
   "mimetype": "text/x-python",
   "name": "python",
   "nbconvert_exporter": "python",
   "pygments_lexer": "ipython3",
   "version": "3.6.4"
  }
 },
 "nbformat": 4,
 "nbformat_minor": 2
}
