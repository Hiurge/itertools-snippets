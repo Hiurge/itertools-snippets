{
 "cells": [
  {
   "cell_type": "code",
   "execution_count": 112,
   "metadata": {},
   "outputs": [
    {
     "name": "stdout",
     "output_type": "stream",
     "text": [
      "Initial: 0 1 10\n",
      "Final: 3 5 10\n"
     ]
    }
   ],
   "source": [
    "class Fib:\n",
    "    '''iterator that yields numbers in the Fibonacci sequence'''\n",
    "\n",
    "    def __init__(self, max):\n",
    "        self.max = max\n",
    "\n",
    "    def __iter__(self):\n",
    "        self.a = 0\n",
    "        self.b = 1\n",
    "        return self\n",
    "\n",
    "    def __next__(self):\n",
    "        fib = self.a\n",
    "        if fib > self.max:\n",
    "            raise StopIteration\n",
    "        self.a, self.b = self.b, self.a + self.b\n",
    "        return fib\n",
    "\n",
    "F = Fib(10)\n",
    "F.__iter__()\n",
    "print(\"Initial:\", F.a, F.b, F.max)\n",
    "F.__next__()\n",
    "F.__next__()\n",
    "F.__next__()\n",
    "F.__next__()\n",
    "print(\"Final:\", F.a, F.b, F.max)\n",
    "\n",
    "\n"
   ]
  },
  {
   "cell_type": "code",
   "execution_count": 125,
   "metadata": {},
   "outputs": [
    {
     "name": "stdout",
     "output_type": "stream",
     "text": [
      "0 {'max': 13, 'a': 1, 'b': 1}\n",
      "1 {'max': 13, 'a': 1, 'b': 2}\n",
      "1 {'max': 13, 'a': 2, 'b': 3}\n",
      "2 {'max': 13, 'a': 3, 'b': 5}\n",
      "3 {'max': 13, 'a': 5, 'b': 8}\n",
      "5 {'max': 13, 'a': 8, 'b': 13}\n",
      "8 {'max': 13, 'a': 13, 'b': 21}\n",
      "13 {'max': 13, 'a': 21, 'b': 34}\n"
     ]
    }
   ],
   "source": [
    "\n",
    "A = Fib(13)\n",
    "for i in A: \n",
    "    print(i, A.__dict__)"
   ]
  },
  {
   "cell_type": "code",
   "execution_count": null,
   "metadata": {},
   "outputs": [],
   "source": []
  },
  {
   "cell_type": "code",
   "execution_count": 160,
   "metadata": {},
   "outputs": [],
   "source": [
    "\n",
    "class IterMe():\n",
    "    \n",
    "    def __init__(self, maxi, items):\n",
    "        self.items = items\n",
    "        self.maxi = maxi\n",
    "    \n",
    "    def __iter__(self,):\n",
    "        self.a = 0\n",
    "        self.b = 1\n",
    "        self.items = []\n",
    "        return self\n",
    "\n",
    "    def __next__(self):\n",
    "\n",
    "        fib = self.a\n",
    "        if fib > self.maxi:\n",
    "            raise StopIteration\n",
    "        self.a, self.b = self.b, self.a + self.b\n",
    "        return fib\n",
    "\n",
    "co chce włożyć:  \n",
    "co chcę dostać: "
   ]
  },
  {
   "cell_type": "code",
   "execution_count": 161,
   "metadata": {},
   "outputs": [
    {
     "name": "stdout",
     "output_type": "stream",
     "text": [
      "{'items': ['y'], 'maxi': 13, 'a': 1, 'b': 1}\n",
      "{'items': ['y', 'y'], 'maxi': 13, 'a': 1, 'b': 2}\n",
      "{'items': ['y', 'y', 'y'], 'maxi': 13, 'a': 2, 'b': 3}\n",
      "{'items': ['y', 'y', 'y', 'y'], 'maxi': 13, 'a': 3, 'b': 5}\n",
      "{'items': ['y', 'y', 'y', 'y', 'y'], 'maxi': 13, 'a': 5, 'b': 8}\n",
      "{'items': ['y', 'y', 'y', 'y', 'y', 'y'], 'maxi': 13, 'a': 8, 'b': 13}\n",
      "{'items': ['y', 'y', 'y', 'y', 'y', 'y', 'y'], 'maxi': 13, 'a': 13, 'b': 21}\n",
      "{'items': ['y', 'y', 'y', 'y', 'y', 'y', 'y', 'y'], 'maxi': 13, 'a': 21, 'b': 34}\n"
     ]
    }
   ],
   "source": [
    "items = [\"x\",\"y\",\"z\"]\n",
    "A = IterMe(13, items)\n",
    "for i in A: \n",
    "    print(A.__dict__)"
   ]
  },
  {
   "cell_type": "code",
   "execution_count": null,
   "metadata": {},
   "outputs": [
    {
     "name": "stdout",
     "output_type": "stream",
     "text": [
      "Enter a value: 2\n",
      "Enter a value: 2\n",
      "Enter a value: 3\n",
      "Enter a value: 4\n",
      "Enter a value: 3\n",
      "Enter a value: 2\n",
      "Enter a value: 4\n",
      "Enter a value: 3\n",
      "Enter a value: 3\n"
     ]
    }
   ],
   "source": [
    "user_input = [input('Enter a value: ') for x in range(10)]\n",
    "numbers = map(int, user_input)\n",
    "odd_numbers = [n for n in numbers if n % 2 != 0]\n",
    "if odd_numbers:\n",
    "    print(max(odd_numbers))\n",
    "else:\n",
    "    print(\"All the numbers are even\")"
   ]
  },
  {
   "cell_type": "code",
   "execution_count": null,
   "metadata": {},
   "outputs": [],
   "source": []
  }
 ],
 "metadata": {
  "kernelspec": {
   "display_name": "Python 3",
   "language": "python",
   "name": "python3"
  },
  "language_info": {
   "codemirror_mode": {
    "name": "ipython",
    "version": 3
   },
   "file_extension": ".py",
   "mimetype": "text/x-python",
   "name": "python",
   "nbconvert_exporter": "python",
   "pygments_lexer": "ipython3",
   "version": "3.6.4"
  }
 },
 "nbformat": 4,
 "nbformat_minor": 2
}
